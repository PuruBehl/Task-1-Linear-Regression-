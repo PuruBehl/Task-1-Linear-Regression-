{
  "nbformat": 4,
  "nbformat_minor": 0,
  "metadata": {
    "kernelspec": {
      "name": "python3",
      "display_name": "Python 3",
      "language": "python"
    },
    "language_info": {
      "name": "python",
      "version": "3.7.9",
      "mimetype": "text/x-python",
      "codemirror_mode": {
        "name": "ipython",
        "version": 3
      },
      "pygments_lexer": "ipython3",
      "nbconvert_exporter": "python",
      "file_extension": ".py"
    },
    "colab": {
      "name": "student-score-prediction (1).ipynb",
      "provenance": [],
      "include_colab_link": true
    }
  },
  "cells": [
    {
      "cell_type": "markdown",
      "metadata": {
        "id": "view-in-github",
        "colab_type": "text"
      },
      "source": [
        "<a href=\"https://colab.research.google.com/github/PuruBehl/Task-1-Linear-Regression-/blob/main/student_score_prediction_(1).ipynb\" target=\"_parent\"><img src=\"https://colab.research.google.com/assets/colab-badge.svg\" alt=\"Open In Colab\"/></a>"
      ]
    },
    {
      "cell_type": "markdown",
      "metadata": {
        "id": "uvXprFkGS5v4"
      },
      "source": [
        "# Simple Linear Regression\n",
        "In this regression task we will predict the percentage of marks that a student is expected to score based upon the number of hours they studied. This is a simple linear regression task as it involves just two variables."
      ]
    },
    {
      "cell_type": "markdown",
      "metadata": {
        "id": "pCmLxfABS5wF"
      },
      "source": [
        "# Importing the required packages"
      ]
    },
    {
      "cell_type": "code",
      "metadata": {
        "_uuid": "8f2839f25d086af736a60e9eeb907d3b93b6e0e5",
        "_cell_guid": "b1076dfc-b9ad-4769-8c92-a6c4dae69d19",
        "trusted": true,
        "id": "7-OWtLX_S5wH"
      },
      "source": [
        "import pandas as pd\n",
        "import numpy as np\n",
        "from sklearn.linear_model import LinearRegression,LogisticRegression\n",
        "import matplotlib.pyplot as plt\n",
        "import seaborn as sns\n",
        "from sklearn.model_selection import train_test_split\n",
        "from sklearn.metrics import mean_absolute_error\n",
        "import warnings\n",
        "from sklearn.model_selection import train_test_split\n",
        "from sklearn.linear_model import ElasticNetCV\n",
        "from sklearn.svm import LinearSVR \n",
        "warnings.filterwarnings(\"ignore\")"
      ],
      "execution_count": null,
      "outputs": []
    },
    {
      "cell_type": "markdown",
      "metadata": {
        "id": "18BuKxniS5wJ"
      },
      "source": [
        "# Importing the data"
      ]
    },
    {
      "cell_type": "code",
      "metadata": {
        "trusted": true,
        "id": "DhV2PSSbS5wK"
      },
      "source": [
        "data=pd.read_csv('../input/student-data-personalized/student_scores%20-%20student_scores.csv')"
      ],
      "execution_count": null,
      "outputs": []
    },
    {
      "cell_type": "code",
      "metadata": {
        "trusted": true,
        "id": "1OmT-d2dS5wL",
        "outputId": "dfcd048b-fd15-42c1-8ecb-1ee521fb7853"
      },
      "source": [
        "data.head()"
      ],
      "execution_count": null,
      "outputs": [
        {
          "output_type": "execute_result",
          "data": {
            "text/plain": [
              "   Hours  Scores\n",
              "0    2.5      21\n",
              "1    5.1      47\n",
              "2    3.2      27\n",
              "3    8.5      75\n",
              "4    3.5      30"
            ],
            "text/html": [
              "<div>\n",
              "<style scoped>\n",
              "    .dataframe tbody tr th:only-of-type {\n",
              "        vertical-align: middle;\n",
              "    }\n",
              "\n",
              "    .dataframe tbody tr th {\n",
              "        vertical-align: top;\n",
              "    }\n",
              "\n",
              "    .dataframe thead th {\n",
              "        text-align: right;\n",
              "    }\n",
              "</style>\n",
              "<table border=\"1\" class=\"dataframe\">\n",
              "  <thead>\n",
              "    <tr style=\"text-align: right;\">\n",
              "      <th></th>\n",
              "      <th>Hours</th>\n",
              "      <th>Scores</th>\n",
              "    </tr>\n",
              "  </thead>\n",
              "  <tbody>\n",
              "    <tr>\n",
              "      <th>0</th>\n",
              "      <td>2.5</td>\n",
              "      <td>21</td>\n",
              "    </tr>\n",
              "    <tr>\n",
              "      <th>1</th>\n",
              "      <td>5.1</td>\n",
              "      <td>47</td>\n",
              "    </tr>\n",
              "    <tr>\n",
              "      <th>2</th>\n",
              "      <td>3.2</td>\n",
              "      <td>27</td>\n",
              "    </tr>\n",
              "    <tr>\n",
              "      <th>3</th>\n",
              "      <td>8.5</td>\n",
              "      <td>75</td>\n",
              "    </tr>\n",
              "    <tr>\n",
              "      <th>4</th>\n",
              "      <td>3.5</td>\n",
              "      <td>30</td>\n",
              "    </tr>\n",
              "  </tbody>\n",
              "</table>\n",
              "</div>"
            ]
          },
          "metadata": {
            "tags": []
          },
          "execution_count": 66
        }
      ]
    },
    {
      "cell_type": "markdown",
      "metadata": {
        "id": "bIv5cLP5S5wO"
      },
      "source": [
        "# Having a look at the score distribution of the students \n"
      ]
    },
    {
      "cell_type": "code",
      "metadata": {
        "trusted": true,
        "id": "i5_z13lDS5wP",
        "outputId": "20835f09-84d1-49c3-9f68-add8d8258338"
      },
      "source": [
        "# Having a look at the score distribution of the students \n",
        "plt.hist(data['Scores'])\n",
        "plt.show()"
      ],
      "execution_count": null,
      "outputs": [
        {
          "output_type": "display_data",
          "data": {
            "text/plain": [
              "<Figure size 432x288 with 1 Axes>"
            ],
            "image/png": "[encoded data removed]"
          },
          "metadata": {
            "tags": [],
            "needs_background": "light"
          }
        }
      ]
    },
    {
      "cell_type": "markdown",
      "metadata": {
        "id": "yYp5_CXDS5wQ"
      },
      "source": [
        "# Having a look at the hours distribution of the students \n"
      ]
    },
    {
      "cell_type": "code",
      "metadata": {
        "trusted": true,
        "id": "x3i8NBUNS5wQ",
        "outputId": "f6abd151-612f-421e-d575-deae0f287061"
      },
      "source": [
        "# Having a look at the hours distribution of the students \n",
        "plt.hist(data['Hours'],color='orange')\n",
        "plt.show()"
      ],
      "execution_count": null,
      "outputs": [
        {
          "output_type": "display_data",
          "data": {
            "text/plain": [
              "<Figure size 432x288 with 1 Axes>"
            ],
            "image/png": "[encoded data removed]"
          },
          "metadata": {
            "tags": [],
            "needs_background": "light"
          }
        }
      ]
    },
    {
      "cell_type": "markdown",
      "metadata": {
        "id": "QO-zSPRHS5wR"
      },
      "source": [
        "# Relationship between hours and Scores"
      ]
    },
    {
      "cell_type": "code",
      "metadata": {
        "trusted": true,
        "id": "_PF3rGSxS5wR",
        "outputId": "201fe1d7-0b01-42ad-84c8-2b2a34ca4436"
      },
      "source": [
        "sns.jointplot(data['Scores'],data['Hours'],kind='reg')\n",
        "plt.show()"
      ],
      "execution_count": null,
      "outputs": [
        {
          "output_type": "display_data",
          "data": {
            "text/plain": [
              "<Figure size 432x432 with 3 Axes>"
            ],
            "image/png": "[encoded data removed]"
          },
          "metadata": {
            "tags": [],
            "needs_background": "light"
          }
        }
      ]
    },
    {
      "cell_type": "markdown",
      "metadata": {
        "id": "Q2EFPGi0S5wS"
      },
      "source": [
        "# TRain test split of the data"
      ]
    },
    {
      "cell_type": "code",
      "metadata": {
        "trusted": true,
        "id": "9x9Z5vHpS5wS"
      },
      "source": [
        "# Using different models\n",
        "# Using linear Regression\n",
        "X=data[['Hours']]\n",
        "y=data['Scores']"
      ],
      "execution_count": null,
      "outputs": []
    },
    {
      "cell_type": "code",
      "metadata": {
        "trusted": true,
        "id": "LoCiR7g8S5wT"
      },
      "source": [
        "X_train, X_test, y_train, y_test = train_test_split(X, y, test_size=0.2, random_state=10)"
      ],
      "execution_count": null,
      "outputs": []
    },
    {
      "cell_type": "markdown",
      "metadata": {
        "id": "NGGZFz-GS5wT"
      },
      "source": [
        "# Linear Regression Model"
      ]
    },
    {
      "cell_type": "code",
      "metadata": {
        "trusted": true,
        "id": "k7HWoxPjS5wU",
        "outputId": "8d518f81-5edc-4e8a-cec2-5bdd3c55175d"
      },
      "source": [
        "# Linear Regression\n",
        "lr=LinearRegression()\n",
        "lr.fit(X_train,y_train)\n",
        "print('The MSE of the model is :',mean_absolute_error(lr.predict(X_test),y_test))"
      ],
      "execution_count": null,
      "outputs": [
        {
          "output_type": "stream",
          "text": [
            "The MSE of the model is : 5.632881746692994\n"
          ],
          "name": "stdout"
        }
      ]
    },
    {
      "cell_type": "markdown",
      "metadata": {
        "id": "-XPHr1uHS5wU"
      },
      "source": [
        "# Logistic Regression Model"
      ]
    },
    {
      "cell_type": "code",
      "metadata": {
        "trusted": true,
        "id": "GhsSV6IGS5wV",
        "outputId": "f77d2189-4322-44af-f27a-46390ec6eaa5"
      },
      "source": [
        "# Using logistic Regression Here\n",
        "lg=LogisticRegression()\n",
        "lg.fit(X_train,y_train)\n",
        "print('The MSE of the model is :',mean_absolute_error(lg.predict(X_test),y_test))"
      ],
      "execution_count": null,
      "outputs": [
        {
          "output_type": "stream",
          "text": [
            "The MSE of the model is : 10.6\n"
          ],
          "name": "stdout"
        }
      ]
    },
    {
      "cell_type": "markdown",
      "metadata": {
        "id": "hm2J1R6KS5wV"
      },
      "source": [
        "# Elastic Net Model"
      ]
    },
    {
      "cell_type": "code",
      "metadata": {
        "trusted": true,
        "id": "uo5IOufuS5wW",
        "outputId": "03ca2aa8-26cf-4925-c248-4b60fa824f0f"
      },
      "source": [
        "# TRying elastic net with tuned parameters\n",
        "best_params={'l1_ratio': 0.17528362757966653,\n",
        "  'eps': 0.0020815171035780482,\n",
        "  'n_alphas': 135,\n",
        "  'tol': 0.0015152265987442687,\n",
        "  'cv': 10}\n",
        "elastic=ElasticNetCV(**best_params)\n",
        "elastic.fit(X_train,y_train)\n",
        "print('The MSE of the model is :',mean_absolute_error(elastic.predict(X_test),y_test))"
      ],
      "execution_count": null,
      "outputs": [
        {
          "output_type": "stream",
          "text": [
            "The MSE of the model is : 5.487952693964656\n"
          ],
          "name": "stdout"
        }
      ]
    },
    {
      "cell_type": "markdown",
      "metadata": {
        "id": "hs62wPAiS5wX"
      },
      "source": [
        "# Linear SVR Model"
      ]
    },
    {
      "cell_type": "code",
      "metadata": {
        "trusted": true,
        "id": "6dsqCkbdS5wX",
        "outputId": "a0d6cb0a-4016-49a5-d615-5443f79e2f0d"
      },
      "source": [
        "# Trying out the SVr model\n",
        "best_params={'epsilon': 0.8399680021600182,\n",
        "  'tol': 0.004787517234436603,\n",
        "  'C': 0.5850448870234743,\n",
        "  'loss': 'epsilon_insensitive'}\n",
        "svr=LinearSVR(**best_params)\n",
        "svr.fit(X_train,y_train)\n",
        "print('The MSE of the model is :',mean_absolute_error(svr.predict(X_test),y_test))"
      ],
      "execution_count": null,
      "outputs": [
        {
          "output_type": "stream",
          "text": [
            "The MSE of the model is : 5.193533341849296\n"
          ],
          "name": "stdout"
        }
      ]
    },
    {
      "cell_type": "markdown",
      "metadata": {
        "id": "QayvLsZjS5wY"
      },
      "source": [
        "## The best model we used was svr which is giving us an MAE of 5.03 . LEt's use this to predict the score for the student with 9.25 hours a day ."
      ]
    },
    {
      "cell_type": "code",
      "metadata": {
        "trusted": true,
        "id": "zDMxaFL_S5wZ",
        "outputId": "d778d861-b37c-4afa-858b-bb9379972ec4"
      },
      "source": [
        "svr.predict([[9.25]])"
      ],
      "execution_count": null,
      "outputs": [
        {
          "output_type": "execute_result",
          "data": {
            "text/plain": [
              "array([90.93558876])"
            ]
          },
          "metadata": {
            "tags": []
          },
          "execution_count": 137
        }
      ]
    },
    {
      "cell_type": "markdown",
      "metadata": {
        "id": "kfXQHVBSS5wZ"
      },
      "source": [
        "# So the student with 9.25 hours/day will get a score of 91"
      ]
    },
    {
      "cell_type": "code",
      "metadata": {
        "trusted": true,
        "id": "cyLSIDQWS5wa"
      },
      "source": [
        ""
      ],
      "execution_count": null,
      "outputs": []
    }
  ]
}